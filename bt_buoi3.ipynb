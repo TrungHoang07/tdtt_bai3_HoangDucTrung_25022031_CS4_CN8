{
  "nbformat": 4,
  "nbformat_minor": 0,
  "metadata": {
    "colab": {
      "provenance": []
    },
    "kernelspec": {
      "name": "python3",
      "display_name": "Python 3"
    },
    "language_info": {
      "name": "python"
    }
  },
  "cells": [
    {
      "cell_type": "markdown",
      "source": [
        "Bài 1"
      ],
      "metadata": {
        "id": "ZmPGKgMOBAtB"
      }
    },
    {
      "cell_type": "code",
      "execution_count": null,
      "metadata": {
        "colab": {
          "base_uri": "https://localhost:8080/"
        },
        "id": "SqyMPdaXAvmf",
        "outputId": "d7fa59be-e182-46ed-c034-822e8c875c1c"
      },
      "outputs": [
        {
          "output_type": "stream",
          "name": "stdout",
          "text": [
            "1234\n",
            "4321\n"
          ]
        }
      ],
      "source": [
        "n = int(input())\n",
        "print(str(n)[::-1])"
      ]
    },
    {
      "cell_type": "markdown",
      "source": [
        "Bài 2"
      ],
      "metadata": {
        "id": "jlslMZbNBQvo"
      }
    },
    {
      "cell_type": "code",
      "source": [
        "a,b = map(int, input().split())\n",
        "a=a^b\n",
        "b=a^b\n",
        "a=a^b\n",
        "print(a,b)"
      ],
      "metadata": {
        "colab": {
          "base_uri": "https://localhost:8080/"
        },
        "id": "dPgHm6_-BR5f",
        "outputId": "a433f623-3325-45cd-edab-fa0bd2cddff0"
      },
      "execution_count": null,
      "outputs": [
        {
          "output_type": "stream",
          "name": "stdout",
          "text": [
            "3 4\n",
            "4 3\n"
          ]
        }
      ]
    },
    {
      "cell_type": "markdown",
      "source": [
        "Bài 3"
      ],
      "metadata": {
        "id": "ZA5lt8WdBfaf"
      }
    },
    {
      "cell_type": "code",
      "source": [
        "n = int(input())\n",
        "if n&(n-1) == 0:\n",
        "    print(True)\n",
        "else:\n",
        "    print(False)"
      ],
      "metadata": {
        "colab": {
          "base_uri": "https://localhost:8080/"
        },
        "id": "sQzOKYcMBfkd",
        "outputId": "c73766f4-a4f2-4524-8849-da9b14981ec2"
      },
      "execution_count": null,
      "outputs": [
        {
          "output_type": "stream",
          "name": "stdout",
          "text": [
            "64\n",
            "True\n"
          ]
        }
      ]
    },
    {
      "cell_type": "markdown",
      "source": [
        "Bài 4"
      ],
      "metadata": {
        "id": "G5EHst8FBkeX"
      }
    },
    {
      "cell_type": "code",
      "source": [
        "m, n = map(int, input().split())\n",
        "c = m/n\n",
        "if m%n == 0:\n",
        "    print(int(c))\n",
        "else:\n",
        "    c = m/n - 0.5\n",
        "    print(f\"{c:.0f}\")"
      ],
      "metadata": {
        "colab": {
          "base_uri": "https://localhost:8080/"
        },
        "id": "6rvIRNdsBlgA",
        "outputId": "3a48f64e-9ec9-4a48-fdca-868af6220599"
      },
      "execution_count": null,
      "outputs": [
        {
          "output_type": "stream",
          "name": "stdout",
          "text": [
            "2323 45\n",
            "51\n"
          ]
        }
      ]
    },
    {
      "cell_type": "markdown",
      "source": [
        "Bài 5"
      ],
      "metadata": {
        "id": "Q2pQkQs1BmT_"
      }
    },
    {
      "cell_type": "code",
      "source": [
        "m, n = map(int, input().split())\n",
        "c = m/n\n",
        "if m%n == 0:\n",
        "    print(int(c))\n",
        "else:\n",
        "    c = m/n + 0.5\n",
        "    print(f\"{c:.0f}\")"
      ],
      "metadata": {
        "colab": {
          "base_uri": "https://localhost:8080/"
        },
        "id": "syWK3L5QBnK_",
        "outputId": "0f291b05-e45a-4b19-87eb-c3ea625fdf20"
      },
      "execution_count": null,
      "outputs": [
        {
          "output_type": "stream",
          "name": "stdout",
          "text": [
            "2 3\n",
            "1\n"
          ]
        }
      ]
    },
    {
      "cell_type": "markdown",
      "source": [
        "Bài 6"
      ],
      "metadata": {
        "id": "oCDar1vpBpxv"
      }
    },
    {
      "cell_type": "code",
      "source": [
        "x = int(input())\n",
        "if x%2 == 0:\n",
        "    print(\"Even\")\n",
        "else: print(\"Odd\")"
      ],
      "metadata": {
        "colab": {
          "base_uri": "https://localhost:8080/"
        },
        "id": "nzFKP_otBqpH",
        "outputId": "d02d8bdb-abbb-4167-ecf3-1dc3bdd57d6f"
      },
      "execution_count": null,
      "outputs": [
        {
          "output_type": "stream",
          "name": "stdout",
          "text": [
            "4\n",
            "Even\n"
          ]
        }
      ]
    },
    {
      "cell_type": "markdown",
      "source": [
        "Bài 7"
      ],
      "metadata": {
        "id": "XApaxz7hBsZI"
      }
    },
    {
      "cell_type": "code",
      "source": [
        "a = int(input())\n",
        "b = int(input())\n",
        "if a < 0 and b < 0:\n",
        "    print(\"Yes\")\n",
        "else: print(\"No\")"
      ],
      "metadata": {
        "colab": {
          "base_uri": "https://localhost:8080/"
        },
        "id": "3aTFjRcnBuZf",
        "outputId": "6439438f-1d3b-4f57-810a-e38753d98f6f"
      },
      "execution_count": null,
      "outputs": [
        {
          "output_type": "stream",
          "name": "stdout",
          "text": [
            "-5\n",
            "-8\n",
            "Yes\n"
          ]
        }
      ]
    },
    {
      "cell_type": "markdown",
      "source": [
        "Bài 8"
      ],
      "metadata": {
        "id": "ZY7UHKyOBvDn"
      }
    },
    {
      "cell_type": "code",
      "source": [
        "a = input()\n",
        "b = input()\n",
        "if len(a) > len(b):\n",
        "    print(True)\n",
        "else: print(False)"
      ],
      "metadata": {
        "colab": {
          "base_uri": "https://localhost:8080/"
        },
        "id": "El1MpBFpBwf_",
        "outputId": "998421f4-434d-4ce0-b24a-1f0995cf900c"
      },
      "execution_count": null,
      "outputs": [
        {
          "output_type": "stream",
          "name": "stdout",
          "text": [
            "mouse \n",
            "dog\n",
            "True\n"
          ]
        }
      ]
    },
    {
      "cell_type": "markdown",
      "source": [
        "Bài 9"
      ],
      "metadata": {
        "id": "4xCmKuK8Byg_"
      }
    },
    {
      "cell_type": "code",
      "source": [
        "a = int(input())\n",
        "b = int(input())\n",
        "c = int(input())\n",
        "if a+b > c and a+c > b and b+c > a:\n",
        "    print(\"Yes\")\n",
        "else: print(\"No\")"
      ],
      "metadata": {
        "colab": {
          "base_uri": "https://localhost:8080/"
        },
        "id": "hJ-_CsQiBzVH",
        "outputId": "3108392f-22b6-49e3-ef96-c4fd1d7c996f"
      },
      "execution_count": null,
      "outputs": [
        {
          "output_type": "stream",
          "name": "stdout",
          "text": [
            "3\n",
            "4\n",
            "5\n",
            "Yes\n"
          ]
        }
      ]
    },
    {
      "cell_type": "markdown",
      "source": [
        "Bài 10"
      ],
      "metadata": {
        "id": "caSS53pKB07f"
      }
    },
    {
      "cell_type": "code",
      "source": [
        "a = int(input())\n",
        "b = int(input())\n",
        "c = int(input())\n",
        "d = int(input())\n",
        "m_n = a\n",
        "if m_n < b:\n",
        "    m_n = b\n",
        "if m_n < c:\n",
        "    m_n = c\n",
        "if m_n < d:\n",
        "    m_n = d\n",
        "print(m_n)\n",
        "\n"
      ],
      "metadata": {
        "colab": {
          "base_uri": "https://localhost:8080/"
        },
        "id": "84X2sE-NB1o_",
        "outputId": "31051610-9114-4875-a3c5-e3a80f2c36fa"
      },
      "execution_count": null,
      "outputs": [
        {
          "output_type": "stream",
          "name": "stdout",
          "text": [
            "1000\n",
            "2000\n",
            "3123\n",
            "343\n",
            "3123\n"
          ]
        }
      ]
    },
    {
      "cell_type": "markdown",
      "source": [
        "Bài 11"
      ],
      "metadata": {
        "id": "p6HSMeBbB3jX"
      }
    },
    {
      "cell_type": "code",
      "source": [
        "a,b,c = map(int, input().split())\n",
        "if a > 0 and b > 0 and c > 0:\n",
        "    if a == b and a == c and b == c:\n",
        "        print(\"Tam giác đều\")\n",
        "    elif a == b or a == c or b == c:\n",
        "        print(\"Tam giác cân\")\n",
        "    elif a+b > c and a+c > b and b+c > a:\n",
        "        print(\"Tam giác thường\")\n",
        "    else:\n",
        "        print(\"Không phải tam giác\")\n",
        "else:\n",
        "    print(\"Không phải tam giác\")\n"
      ],
      "metadata": {
        "colab": {
          "base_uri": "https://localhost:8080/"
        },
        "id": "xh_aCYvPB4TP",
        "outputId": "44d09ff8-ac35-479e-f549-59975344611a"
      },
      "execution_count": null,
      "outputs": [
        {
          "output_type": "stream",
          "name": "stdout",
          "text": [
            "3 3 4\n",
            "Tam giác cân\n"
          ]
        }
      ]
    },
    {
      "cell_type": "markdown",
      "source": [
        "Bài 12"
      ],
      "metadata": {
        "id": "qjzighxuB6In"
      }
    },
    {
      "cell_type": "code",
      "source": [
        "n = int(input())\n",
        "if (n%4 == 0 and n%100 != 0) or (n%400 == 0):\n",
        "    print(\"Yes\")\n",
        "else: print(\"No\")"
      ],
      "metadata": {
        "colab": {
          "base_uri": "https://localhost:8080/"
        },
        "id": "v7dxTnivB7kw",
        "outputId": "c99b4e9f-4f1e-49c5-fac1-b8bd527ba8eb"
      },
      "execution_count": null,
      "outputs": [
        {
          "output_type": "stream",
          "name": "stdout",
          "text": [
            "1900\n",
            "No\n"
          ]
        }
      ]
    },
    {
      "cell_type": "markdown",
      "source": [
        "Bài 13"
      ],
      "metadata": {
        "id": "A8Xzdxm-B_Yo"
      }
    },
    {
      "cell_type": "code",
      "source": [
        "n = int(input())\n",
        "if 0 <= n <= 50:\n",
        "    print(n*1500)\n",
        "elif 51 <= n <= 100:\n",
        "    n1 = 50*1500\n",
        "    n2 = (n-50)*2000\n",
        "    print(n1+n2)\n",
        "elif n >= 101:\n",
        "    n3 = (n-100)*3000\n",
        "    print(3500*50 + n3)"
      ],
      "metadata": {
        "colab": {
          "base_uri": "https://localhost:8080/"
        },
        "id": "fR8qUGB6CAIn",
        "outputId": "e6b6dacc-0ca4-477e-8310-62e154d4a980"
      },
      "execution_count": null,
      "outputs": [
        {
          "output_type": "stream",
          "name": "stdout",
          "text": [
            "120\n",
            "235000\n"
          ]
        }
      ]
    },
    {
      "cell_type": "markdown",
      "source": [
        "Bài 14"
      ],
      "metadata": {
        "id": "J6s-VjKUCBxA"
      }
    },
    {
      "cell_type": "code",
      "source": [
        "a = float(input())\n",
        "b = float(input())\n",
        "if a == 0 and b == 0:\n",
        "    print(\"Vô số nghiệm\")\n",
        "elif a == 0:\n",
        "    print(\"Vô nghiệm\")\n",
        "else:\n",
        "    print(f'{-b/a:.2f}')\n"
      ],
      "metadata": {
        "colab": {
          "base_uri": "https://localhost:8080/"
        },
        "id": "GibTAVc7CClX",
        "outputId": "c41e9c13-1f93-465e-a151-a04e0467ab93"
      },
      "execution_count": null,
      "outputs": [
        {
          "output_type": "stream",
          "name": "stdout",
          "text": [
            "2.4\n",
            "1.22\n",
            "-0.51\n"
          ]
        }
      ]
    },
    {
      "cell_type": "markdown",
      "source": [
        "Bài 15"
      ],
      "metadata": {
        "id": "LbofGVAPCEbX"
      }
    },
    {
      "cell_type": "code",
      "source": [
        "n = float(input())\n",
        "if n >= 8:\n",
        "    print(\"Giỏi\")\n",
        "elif n >= 6.5:\n",
        "    print(\"Khá\")\n",
        "elif n >= 5:\n",
        "    print(\"Trung bình\")\n",
        "elif n <5:\n",
        "    print(\"Yếu\")\n"
      ],
      "metadata": {
        "colab": {
          "base_uri": "https://localhost:8080/"
        },
        "id": "Gm7lCgTdCF8P",
        "outputId": "d6ef82b9-4715-4ce7-b55d-6aca5c91e247"
      },
      "execution_count": null,
      "outputs": [
        {
          "output_type": "stream",
          "name": "stdout",
          "text": [
            "9.2\n",
            "Giỏi\n"
          ]
        }
      ]
    },
    {
      "cell_type": "markdown",
      "source": [
        "Bài 16"
      ],
      "metadata": {
        "id": "zTG0b_0WCGf3"
      }
    },
    {
      "cell_type": "code",
      "source": [
        "n = float(input())\n",
        "s = str(n)\n",
        "if int(s[-1]) == 0:\n",
        "    print(int(n),int(n),int(n))\n",
        "elif n > 0:\n",
        "    i = int(n)\n",
        "    if int(s[-1]) >= 5:\n",
        "        c = int(n+1)\n",
        "    elif int(s[-1]) < 5:\n",
        "        c = int(n)\n",
        "    print(i+1,i,c)\n",
        "elif n < 0:\n",
        "    i = -int(-n)\n",
        "    if int(s[-1]) >= 5:\n",
        "        c = -int(-n+1)\n",
        "    elif int(s[-1]) < 5:\n",
        "        c = int(n)\n",
        "    print(i,i-1,c)\n"
      ],
      "metadata": {
        "colab": {
          "base_uri": "https://localhost:8080/"
        },
        "id": "X16bskpfCHQ4",
        "outputId": "7da7f4ec-4a11-4923-9764-5a3d60c099e2"
      },
      "execution_count": null,
      "outputs": [
        {
          "output_type": "stream",
          "name": "stdout",
          "text": [
            "-5.8\n",
            "-5 -6 -6\n"
          ]
        }
      ]
    },
    {
      "cell_type": "markdown",
      "source": [
        "Bài 17: Giống bài 11"
      ],
      "metadata": {
        "id": "TJYQWsmXCKGn"
      }
    }
  ]
}